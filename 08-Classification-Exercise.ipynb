{
 "cells": [
  {
   "cell_type": "markdown",
   "metadata": {
    "collapsed": true
   },
   "source": [
    "# Classification Exercise"
   ]
  },
  {
   "cell_type": "markdown",
   "metadata": {},
   "source": [
    "We'll be working with some California Census Data, we'll be trying to use various features of an individual to predict what class of income they belogn in (>50k or <=50k). \n",
    "\n",
    "Here is some information about the data:"
   ]
  },
  {
   "cell_type": "markdown",
   "metadata": {},
   "source": [
    "<table>\n",
    "<thead>\n",
    "<tr>\n",
    "<th>Column Name</th>\n",
    "<th>Type</th>\n",
    "<th>Description</th>\n",
    "</tr>\n",
    "</thead>\n",
    "<tbody>\n",
    "<tr>\n",
    "<td>age</td>\n",
    "<td>Continuous</td>\n",
    "<td>The age of the individual</td>\n",
    "</tr>\n",
    "<tr>\n",
    "<td>workclass</td>\n",
    "<td>Categorical</td>\n",
    "<td>The type of employer the  individual has (government,  military, private, etc.).</td>\n",
    "</tr>\n",
    "<tr>\n",
    "<td>fnlwgt</td>\n",
    "<td>Continuous</td>\n",
    "<td>The number of people the census  takers believe that observation  represents (sample weight). This  variable will not be used.</td>\n",
    "</tr>\n",
    "<tr>\n",
    "<td>education</td>\n",
    "<td>Categorical</td>\n",
    "<td>The highest level of education  achieved for that individual.</td>\n",
    "</tr>\n",
    "<tr>\n",
    "<td>education_num</td>\n",
    "<td>Continuous</td>\n",
    "<td>The highest level of education in  numerical form.</td>\n",
    "</tr>\n",
    "<tr>\n",
    "<td>marital_status</td>\n",
    "<td>Categorical</td>\n",
    "<td>Marital status of the individual.</td>\n",
    "</tr>\n",
    "<tr>\n",
    "<td>occupation</td>\n",
    "<td>Categorical</td>\n",
    "<td>The occupation of the individual.</td>\n",
    "</tr>\n",
    "<tr>\n",
    "<td>relationship</td>\n",
    "<td>Categorical</td>\n",
    "<td>Wife, Own-child, Husband,  Not-in-family, Other-relative,  Unmarried.</td>\n",
    "</tr>\n",
    "<tr>\n",
    "<td>race</td>\n",
    "<td>Categorical</td>\n",
    "<td>White, Asian-Pac-Islander,  Amer-Indian-Eskimo, Other, Black.</td>\n",
    "</tr>\n",
    "<tr>\n",
    "<td>gender</td>\n",
    "<td>Categorical</td>\n",
    "<td>Female, Male.</td>\n",
    "</tr>\n",
    "<tr>\n",
    "<td>capital_gain</td>\n",
    "<td>Continuous</td>\n",
    "<td>Capital gains recorded.</td>\n",
    "</tr>\n",
    "<tr>\n",
    "<td>capital_loss</td>\n",
    "<td>Continuous</td>\n",
    "<td>Capital Losses recorded.</td>\n",
    "</tr>\n",
    "<tr>\n",
    "<td>hours_per_week</td>\n",
    "<td>Continuous</td>\n",
    "<td>Hours worked per week.</td>\n",
    "</tr>\n",
    "<tr>\n",
    "<td>native_country</td>\n",
    "<td>Categorical</td>\n",
    "<td>Country of origin of the  individual.</td>\n",
    "</tr>\n",
    "<tr>\n",
    "<td>income</td>\n",
    "<td>Categorical</td>\n",
    "<td>\"&gt;50K\" or \"&lt;=50K\", meaning  whether the person makes more  than \\$50,000 annually.</td>\n",
    "</tr>\n",
    "</tbody>\n",
    "</table>"
   ]
  },
  {
   "cell_type": "markdown",
   "metadata": {},
   "source": [
    "## Follow the Directions in Bold. If you get stuck, check out the solutions lecture."
   ]
  },
  {
   "cell_type": "markdown",
   "metadata": {},
   "source": [
    "### THE DATA"
   ]
  },
  {
   "cell_type": "markdown",
   "metadata": {},
   "source": [
    "** Read in the census_data.csv data with pandas**"
   ]
  },
  {
   "cell_type": "code",
   "execution_count": 1,
   "metadata": {
    "collapsed": true
   },
   "outputs": [],
   "source": [
    "import pandas as pd"
   ]
  },
  {
   "cell_type": "code",
   "execution_count": 2,
   "metadata": {
    "collapsed": true
   },
   "outputs": [],
   "source": [
    "census = pd.read_csv('census_data.csv')"
   ]
  },
  {
   "cell_type": "code",
   "execution_count": 3,
   "metadata": {},
   "outputs": [
    {
     "data": {
      "text/html": [
       "<div>\n",
       "<style>\n",
       "    .dataframe thead tr:only-child th {\n",
       "        text-align: right;\n",
       "    }\n",
       "\n",
       "    .dataframe thead th {\n",
       "        text-align: left;\n",
       "    }\n",
       "\n",
       "    .dataframe tbody tr th {\n",
       "        vertical-align: top;\n",
       "    }\n",
       "</style>\n",
       "<table border=\"1\" class=\"dataframe\">\n",
       "  <thead>\n",
       "    <tr style=\"text-align: right;\">\n",
       "      <th></th>\n",
       "      <th>age</th>\n",
       "      <th>workclass</th>\n",
       "      <th>education</th>\n",
       "      <th>education_num</th>\n",
       "      <th>marital_status</th>\n",
       "      <th>occupation</th>\n",
       "      <th>relationship</th>\n",
       "      <th>race</th>\n",
       "      <th>gender</th>\n",
       "      <th>capital_gain</th>\n",
       "      <th>capital_loss</th>\n",
       "      <th>hours_per_week</th>\n",
       "      <th>native_country</th>\n",
       "      <th>income_bracket</th>\n",
       "    </tr>\n",
       "  </thead>\n",
       "  <tbody>\n",
       "    <tr>\n",
       "      <th>0</th>\n",
       "      <td>39</td>\n",
       "      <td>State-gov</td>\n",
       "      <td>Bachelors</td>\n",
       "      <td>13</td>\n",
       "      <td>Never-married</td>\n",
       "      <td>Adm-clerical</td>\n",
       "      <td>Not-in-family</td>\n",
       "      <td>White</td>\n",
       "      <td>Male</td>\n",
       "      <td>2174</td>\n",
       "      <td>0</td>\n",
       "      <td>40</td>\n",
       "      <td>United-States</td>\n",
       "      <td>&lt;=50K</td>\n",
       "    </tr>\n",
       "    <tr>\n",
       "      <th>1</th>\n",
       "      <td>50</td>\n",
       "      <td>Self-emp-not-inc</td>\n",
       "      <td>Bachelors</td>\n",
       "      <td>13</td>\n",
       "      <td>Married-civ-spouse</td>\n",
       "      <td>Exec-managerial</td>\n",
       "      <td>Husband</td>\n",
       "      <td>White</td>\n",
       "      <td>Male</td>\n",
       "      <td>0</td>\n",
       "      <td>0</td>\n",
       "      <td>13</td>\n",
       "      <td>United-States</td>\n",
       "      <td>&lt;=50K</td>\n",
       "    </tr>\n",
       "    <tr>\n",
       "      <th>2</th>\n",
       "      <td>38</td>\n",
       "      <td>Private</td>\n",
       "      <td>HS-grad</td>\n",
       "      <td>9</td>\n",
       "      <td>Divorced</td>\n",
       "      <td>Handlers-cleaners</td>\n",
       "      <td>Not-in-family</td>\n",
       "      <td>White</td>\n",
       "      <td>Male</td>\n",
       "      <td>0</td>\n",
       "      <td>0</td>\n",
       "      <td>40</td>\n",
       "      <td>United-States</td>\n",
       "      <td>&lt;=50K</td>\n",
       "    </tr>\n",
       "    <tr>\n",
       "      <th>3</th>\n",
       "      <td>53</td>\n",
       "      <td>Private</td>\n",
       "      <td>11th</td>\n",
       "      <td>7</td>\n",
       "      <td>Married-civ-spouse</td>\n",
       "      <td>Handlers-cleaners</td>\n",
       "      <td>Husband</td>\n",
       "      <td>Black</td>\n",
       "      <td>Male</td>\n",
       "      <td>0</td>\n",
       "      <td>0</td>\n",
       "      <td>40</td>\n",
       "      <td>United-States</td>\n",
       "      <td>&lt;=50K</td>\n",
       "    </tr>\n",
       "    <tr>\n",
       "      <th>4</th>\n",
       "      <td>28</td>\n",
       "      <td>Private</td>\n",
       "      <td>Bachelors</td>\n",
       "      <td>13</td>\n",
       "      <td>Married-civ-spouse</td>\n",
       "      <td>Prof-specialty</td>\n",
       "      <td>Wife</td>\n",
       "      <td>Black</td>\n",
       "      <td>Female</td>\n",
       "      <td>0</td>\n",
       "      <td>0</td>\n",
       "      <td>40</td>\n",
       "      <td>Cuba</td>\n",
       "      <td>&lt;=50K</td>\n",
       "    </tr>\n",
       "  </tbody>\n",
       "</table>\n",
       "</div>"
      ],
      "text/plain": [
       "   age          workclass   education  education_num       marital_status  \\\n",
       "0   39          State-gov   Bachelors             13        Never-married   \n",
       "1   50   Self-emp-not-inc   Bachelors             13   Married-civ-spouse   \n",
       "2   38            Private     HS-grad              9             Divorced   \n",
       "3   53            Private        11th              7   Married-civ-spouse   \n",
       "4   28            Private   Bachelors             13   Married-civ-spouse   \n",
       "\n",
       "           occupation    relationship    race   gender  capital_gain  \\\n",
       "0        Adm-clerical   Not-in-family   White     Male          2174   \n",
       "1     Exec-managerial         Husband   White     Male             0   \n",
       "2   Handlers-cleaners   Not-in-family   White     Male             0   \n",
       "3   Handlers-cleaners         Husband   Black     Male             0   \n",
       "4      Prof-specialty            Wife   Black   Female             0   \n",
       "\n",
       "   capital_loss  hours_per_week  native_country income_bracket  \n",
       "0             0              40   United-States          <=50K  \n",
       "1             0              13   United-States          <=50K  \n",
       "2             0              40   United-States          <=50K  \n",
       "3             0              40   United-States          <=50K  \n",
       "4             0              40            Cuba          <=50K  "
      ]
     },
     "execution_count": 3,
     "metadata": {},
     "output_type": "execute_result"
    }
   ],
   "source": [
    "census.head()"
   ]
  },
  {
   "cell_type": "markdown",
   "metadata": {},
   "source": [
    "** TensorFlow won't be able to understand strings as labels, you'll need to use pandas .apply() method to apply a custom function that converts them to 0s and 1s. This might be hard if you aren't very familiar with pandas, so feel free to take a peek at the solutions for this part.**\n",
    "\n",
    "** Convert the Label column to 0s and 1s instead of strings.**"
   ]
  },
  {
   "cell_type": "code",
   "execution_count": 4,
   "metadata": {},
   "outputs": [
    {
     "data": {
      "text/plain": [
       "array([' <=50K', ' >50K'], dtype=object)"
      ]
     },
     "execution_count": 4,
     "metadata": {},
     "output_type": "execute_result"
    }
   ],
   "source": [
    "census['income_bracket'].unique()"
   ]
  },
  {
   "cell_type": "code",
   "execution_count": 5,
   "metadata": {
    "collapsed": true
   },
   "outputs": [],
   "source": [
    "def label_fix(label):\n",
    "    if label == ' <=50K':\n",
    "        return 0\n",
    "    else:\n",
    "        return 1"
   ]
  },
  {
   "cell_type": "code",
   "execution_count": 6,
   "metadata": {
    "collapsed": true
   },
   "outputs": [],
   "source": [
    "census['income_bracket'] = census['income_bracket'].apply(label_fix)"
   ]
  },
  {
   "cell_type": "code",
   "execution_count": 7,
   "metadata": {},
   "outputs": [
    {
     "data": {
      "text/html": [
       "<div>\n",
       "<style>\n",
       "    .dataframe thead tr:only-child th {\n",
       "        text-align: right;\n",
       "    }\n",
       "\n",
       "    .dataframe thead th {\n",
       "        text-align: left;\n",
       "    }\n",
       "\n",
       "    .dataframe tbody tr th {\n",
       "        vertical-align: top;\n",
       "    }\n",
       "</style>\n",
       "<table border=\"1\" class=\"dataframe\">\n",
       "  <thead>\n",
       "    <tr style=\"text-align: right;\">\n",
       "      <th></th>\n",
       "      <th>age</th>\n",
       "      <th>workclass</th>\n",
       "      <th>education</th>\n",
       "      <th>education_num</th>\n",
       "      <th>marital_status</th>\n",
       "      <th>occupation</th>\n",
       "      <th>relationship</th>\n",
       "      <th>race</th>\n",
       "      <th>gender</th>\n",
       "      <th>capital_gain</th>\n",
       "      <th>capital_loss</th>\n",
       "      <th>hours_per_week</th>\n",
       "      <th>native_country</th>\n",
       "      <th>income_bracket</th>\n",
       "    </tr>\n",
       "  </thead>\n",
       "  <tbody>\n",
       "    <tr>\n",
       "      <th>0</th>\n",
       "      <td>39</td>\n",
       "      <td>State-gov</td>\n",
       "      <td>Bachelors</td>\n",
       "      <td>13</td>\n",
       "      <td>Never-married</td>\n",
       "      <td>Adm-clerical</td>\n",
       "      <td>Not-in-family</td>\n",
       "      <td>White</td>\n",
       "      <td>Male</td>\n",
       "      <td>2174</td>\n",
       "      <td>0</td>\n",
       "      <td>40</td>\n",
       "      <td>United-States</td>\n",
       "      <td>0</td>\n",
       "    </tr>\n",
       "    <tr>\n",
       "      <th>1</th>\n",
       "      <td>50</td>\n",
       "      <td>Self-emp-not-inc</td>\n",
       "      <td>Bachelors</td>\n",
       "      <td>13</td>\n",
       "      <td>Married-civ-spouse</td>\n",
       "      <td>Exec-managerial</td>\n",
       "      <td>Husband</td>\n",
       "      <td>White</td>\n",
       "      <td>Male</td>\n",
       "      <td>0</td>\n",
       "      <td>0</td>\n",
       "      <td>13</td>\n",
       "      <td>United-States</td>\n",
       "      <td>0</td>\n",
       "    </tr>\n",
       "    <tr>\n",
       "      <th>2</th>\n",
       "      <td>38</td>\n",
       "      <td>Private</td>\n",
       "      <td>HS-grad</td>\n",
       "      <td>9</td>\n",
       "      <td>Divorced</td>\n",
       "      <td>Handlers-cleaners</td>\n",
       "      <td>Not-in-family</td>\n",
       "      <td>White</td>\n",
       "      <td>Male</td>\n",
       "      <td>0</td>\n",
       "      <td>0</td>\n",
       "      <td>40</td>\n",
       "      <td>United-States</td>\n",
       "      <td>0</td>\n",
       "    </tr>\n",
       "    <tr>\n",
       "      <th>3</th>\n",
       "      <td>53</td>\n",
       "      <td>Private</td>\n",
       "      <td>11th</td>\n",
       "      <td>7</td>\n",
       "      <td>Married-civ-spouse</td>\n",
       "      <td>Handlers-cleaners</td>\n",
       "      <td>Husband</td>\n",
       "      <td>Black</td>\n",
       "      <td>Male</td>\n",
       "      <td>0</td>\n",
       "      <td>0</td>\n",
       "      <td>40</td>\n",
       "      <td>United-States</td>\n",
       "      <td>0</td>\n",
       "    </tr>\n",
       "    <tr>\n",
       "      <th>4</th>\n",
       "      <td>28</td>\n",
       "      <td>Private</td>\n",
       "      <td>Bachelors</td>\n",
       "      <td>13</td>\n",
       "      <td>Married-civ-spouse</td>\n",
       "      <td>Prof-specialty</td>\n",
       "      <td>Wife</td>\n",
       "      <td>Black</td>\n",
       "      <td>Female</td>\n",
       "      <td>0</td>\n",
       "      <td>0</td>\n",
       "      <td>40</td>\n",
       "      <td>Cuba</td>\n",
       "      <td>0</td>\n",
       "    </tr>\n",
       "  </tbody>\n",
       "</table>\n",
       "</div>"
      ],
      "text/plain": [
       "   age          workclass   education  education_num       marital_status  \\\n",
       "0   39          State-gov   Bachelors             13        Never-married   \n",
       "1   50   Self-emp-not-inc   Bachelors             13   Married-civ-spouse   \n",
       "2   38            Private     HS-grad              9             Divorced   \n",
       "3   53            Private        11th              7   Married-civ-spouse   \n",
       "4   28            Private   Bachelors             13   Married-civ-spouse   \n",
       "\n",
       "           occupation    relationship    race   gender  capital_gain  \\\n",
       "0        Adm-clerical   Not-in-family   White     Male          2174   \n",
       "1     Exec-managerial         Husband   White     Male             0   \n",
       "2   Handlers-cleaners   Not-in-family   White     Male             0   \n",
       "3   Handlers-cleaners         Husband   Black     Male             0   \n",
       "4      Prof-specialty            Wife   Black   Female             0   \n",
       "\n",
       "   capital_loss  hours_per_week  native_country  income_bracket  \n",
       "0             0              40   United-States               0  \n",
       "1             0              13   United-States               0  \n",
       "2             0              40   United-States               0  \n",
       "3             0              40   United-States               0  \n",
       "4             0              40            Cuba               0  "
      ]
     },
     "execution_count": 7,
     "metadata": {},
     "output_type": "execute_result"
    }
   ],
   "source": [
    "census.head()"
   ]
  },
  {
   "cell_type": "markdown",
   "metadata": {},
   "source": [
    "### Perform a Train Test Split on the Data"
   ]
  },
  {
   "cell_type": "code",
   "execution_count": 8,
   "metadata": {
    "collapsed": true
   },
   "outputs": [],
   "source": [
    "from sklearn.model_selection import train_test_split"
   ]
  },
  {
   "cell_type": "code",
   "execution_count": 9,
   "metadata": {
    "collapsed": true
   },
   "outputs": [],
   "source": [
    "x_data = census.drop('income_bracket',axis = 1)\n",
    "y_label = census['income_bracket']"
   ]
  },
  {
   "cell_type": "code",
   "execution_count": 10,
   "metadata": {
    "collapsed": true
   },
   "outputs": [],
   "source": [
    "X_train, X_test, y_train, y_test = train_test_split(\n",
    "x_data, y_label, test_size=0.3, random_state=101)"
   ]
  },
  {
   "cell_type": "code",
   "execution_count": 11,
   "metadata": {},
   "outputs": [
    {
     "data": {
      "text/plain": [
       "Index(['age', 'workclass', 'education', 'education_num', 'marital_status',\n",
       "       'occupation', 'relationship', 'race', 'gender', 'capital_gain',\n",
       "       'capital_loss', 'hours_per_week', 'native_country', 'income_bracket'],\n",
       "      dtype='object')"
      ]
     },
     "execution_count": 11,
     "metadata": {},
     "output_type": "execute_result"
    }
   ],
   "source": [
    "census.columns"
   ]
  },
  {
   "cell_type": "markdown",
   "metadata": {},
   "source": [
    "### Create the Feature Columns for tf.esitmator\n",
    "\n",
    "** Take note of categorical vs continuous values! **"
   ]
  },
  {
   "cell_type": "code",
   "execution_count": 13,
   "metadata": {},
   "outputs": [
    {
     "data": {
      "text/plain": [
       "Index(['age', 'workclass', 'education', 'education_num', 'marital_status',\n",
       "       'occupation', 'relationship', 'race', 'gender', 'capital_gain',\n",
       "       'capital_loss', 'hours_per_week', 'native_country', 'income_bracket'],\n",
       "      dtype='object')"
      ]
     },
     "execution_count": 13,
     "metadata": {},
     "output_type": "execute_result"
    }
   ],
   "source": []
  },
  {
   "cell_type": "markdown",
   "metadata": {},
   "source": [
    "** Import Tensorflow **"
   ]
  },
  {
   "cell_type": "code",
   "execution_count": 12,
   "metadata": {
    "collapsed": true
   },
   "outputs": [],
   "source": [
    "import tensorflow as tf"
   ]
  },
  {
   "cell_type": "code",
   "execution_count": null,
   "metadata": {
    "collapsed": true
   },
   "outputs": [],
   "source": []
  },
  {
   "cell_type": "code",
   "execution_count": null,
   "metadata": {
    "collapsed": true
   },
   "outputs": [],
   "source": []
  },
  {
   "cell_type": "markdown",
   "metadata": {
    "collapsed": true
   },
   "source": [
    "** Create the tf.feature_columns for the categorical values. Use vocabulary lists or just use hash buckets. **"
   ]
  },
  {
   "cell_type": "code",
   "execution_count": 13,
   "metadata": {
    "collapsed": true
   },
   "outputs": [],
   "source": [
    "gender = tf.feature_column.categorical_column_with_vocabulary_list(\"gender\"\n",
    ",['Female','Male'])"
   ]
  },
  {
   "cell_type": "code",
   "execution_count": 15,
   "metadata": {},
   "outputs": [],
   "source": [
    "occupation = tf.feature_column.categorical_column_with_hash_bucket(\"occupation\",\n",
    "hash_bucket_size = 1000)"
   ]
  },
  {
   "cell_type": "code",
   "execution_count": 16,
   "metadata": {
    "collapsed": true
   },
   "outputs": [],
   "source": [
    "marital_status = tf.feature_column.categorical_column_with_hash_bucket(\"marital_status\",\n",
    "hash_bucket_size = 1000)\n",
    "relationship = tf.feature_column.categorical_column_with_hash_bucket(\"relationship\",\n",
    "hash_bucket_size = 1000)\n",
    "education = tf.feature_column.categorical_column_with_hash_bucket(\"education\",\n",
    "hash_bucket_size = 1000)\n",
    "workclass = tf.feature_column.categorical_column_with_hash_bucket(\"workclass\",\n",
    "hash_bucket_size = 1000)\n",
    "native_country = tf.feature_column.categorical_column_with_hash_bucket(\"native_country\",\n",
    "hash_bucket_size = 1000)\n"
   ]
  },
  {
   "cell_type": "code",
   "execution_count": null,
   "metadata": {
    "collapsed": true
   },
   "outputs": [],
   "source": []
  },
  {
   "cell_type": "code",
   "execution_count": null,
   "metadata": {
    "collapsed": true
   },
   "outputs": [],
   "source": []
  },
  {
   "cell_type": "markdown",
   "metadata": {},
   "source": [
    "** Create the continuous feature_columns for the continuous values using numeric_column **"
   ]
  },
  {
   "cell_type": "code",
   "execution_count": 17,
   "metadata": {
    "collapsed": true
   },
   "outputs": [],
   "source": [
    "age  = tf.feature_column.numeric_column(\"age\")\n",
    "education_num  = tf.feature_column.numeric_column(\"education_num\")\n",
    "capital_gain  = tf.feature_column.numeric_column(\"capital_gain\")\n",
    "capital_loss  = tf.feature_column.numeric_column(\"capital_loss\")\n",
    "hours_per_week  = tf.feature_column.numeric_column(\"hours_per_week\")"
   ]
  },
  {
   "cell_type": "markdown",
   "metadata": {},
   "source": [
    "** Put all these variables into a single list with the variable name feat_cols **"
   ]
  },
  {
   "cell_type": "code",
   "execution_count": 18,
   "metadata": {
    "collapsed": true
   },
   "outputs": [],
   "source": [
    "feat_cols = [gender,occupation,marital_status,relationship,education,\n",
    "            workclass,native_country,age,education_num,capital_gain\n",
    "            ,capital_loss,hours_per_week]"
   ]
  },
  {
   "cell_type": "markdown",
   "metadata": {},
   "source": [
    "### Create Input Function\n",
    "\n",
    "** Batch_size is up to you. But do make sure to shuffle!**"
   ]
  },
  {
   "cell_type": "code",
   "execution_count": 20,
   "metadata": {},
   "outputs": [],
   "source": [
    "input_func = tf.estimator.inputs.pandas_input_fn(x=X_train,y=y_train,\n",
    "                                batch_size = 100,num_epochs = None,\n",
    "                                shuffle = True)"
   ]
  },
  {
   "cell_type": "markdown",
   "metadata": {},
   "source": [
    "#### Create your model with tf.estimator\n",
    "\n",
    "**Create a LinearClassifier.(If you want to use a DNNClassifier, keep in mind you'll need to create embedded columns out of the cateogrical feature that use strings, check out the previous lecture on this for more info.)**"
   ]
  },
  {
   "cell_type": "code",
   "execution_count": 22,
   "metadata": {},
   "outputs": [
    {
     "name": "stdout",
     "output_type": "stream",
     "text": [
      "INFO:tensorflow:Using default config.\n",
      "WARNING:tensorflow:Using temporary folder as model directory: /var/folders/wc/97m43k5n4knd4vkdthrfb27r0000gn/T/tmpgia8bks9\n",
      "INFO:tensorflow:Using config: {'_model_dir': '/var/folders/wc/97m43k5n4knd4vkdthrfb27r0000gn/T/tmpgia8bks9', '_tf_random_seed': 1, '_save_summary_steps': 100, '_save_checkpoints_secs': 600, '_save_checkpoints_steps': None, '_session_config': None, '_keep_checkpoint_max': 5, '_keep_checkpoint_every_n_hours': 10000, '_log_step_count_steps': 100}\n"
     ]
    }
   ],
   "source": [
    "model = tf.estimator.LinearClassifier(feature_columns = feat_cols)"
   ]
  },
  {
   "cell_type": "markdown",
   "metadata": {},
   "source": [
    "** Train your model on the data, for at least 5000 steps. **"
   ]
  },
  {
   "cell_type": "code",
   "execution_count": 23,
   "metadata": {},
   "outputs": [
    {
     "name": "stdout",
     "output_type": "stream",
     "text": [
      "INFO:tensorflow:Create CheckpointSaverHook.\n",
      "INFO:tensorflow:Saving checkpoints for 1 into /var/folders/wc/97m43k5n4knd4vkdthrfb27r0000gn/T/tmpgia8bks9/model.ckpt.\n",
      "INFO:tensorflow:loss = 69.3147, step = 1\n",
      "INFO:tensorflow:global_step/sec: 160.487\n",
      "INFO:tensorflow:loss = 770.798, step = 101 (0.624 sec)\n",
      "INFO:tensorflow:global_step/sec: 174.575\n",
      "INFO:tensorflow:loss = 131.334, step = 201 (0.573 sec)\n",
      "INFO:tensorflow:global_step/sec: 196.41\n",
      "INFO:tensorflow:loss = 451.23, step = 301 (0.509 sec)\n",
      "INFO:tensorflow:global_step/sec: 164.831\n",
      "INFO:tensorflow:loss = 88.6853, step = 401 (0.607 sec)\n",
      "INFO:tensorflow:global_step/sec: 158.221\n",
      "INFO:tensorflow:loss = 122.128, step = 501 (0.635 sec)\n",
      "INFO:tensorflow:global_step/sec: 223.327\n",
      "INFO:tensorflow:loss = 269.854, step = 601 (0.445 sec)\n",
      "INFO:tensorflow:global_step/sec: 162.056\n",
      "INFO:tensorflow:loss = 48.3345, step = 701 (0.617 sec)\n",
      "INFO:tensorflow:global_step/sec: 136.07\n",
      "INFO:tensorflow:loss = 1171.14, step = 801 (0.735 sec)\n",
      "INFO:tensorflow:global_step/sec: 192.984\n",
      "INFO:tensorflow:loss = 125.072, step = 901 (0.519 sec)\n",
      "INFO:tensorflow:global_step/sec: 232.419\n",
      "INFO:tensorflow:loss = 294.337, step = 1001 (0.430 sec)\n",
      "INFO:tensorflow:global_step/sec: 178.181\n",
      "INFO:tensorflow:loss = 39.7175, step = 1101 (0.561 sec)\n",
      "INFO:tensorflow:global_step/sec: 186.549\n",
      "INFO:tensorflow:loss = 121.631, step = 1201 (0.537 sec)\n",
      "INFO:tensorflow:global_step/sec: 194.26\n",
      "INFO:tensorflow:loss = 62.1581, step = 1301 (0.513 sec)\n",
      "INFO:tensorflow:global_step/sec: 227.137\n",
      "INFO:tensorflow:loss = 35.4793, step = 1401 (0.440 sec)\n",
      "INFO:tensorflow:global_step/sec: 262.197\n",
      "INFO:tensorflow:loss = 70.8917, step = 1501 (0.383 sec)\n",
      "INFO:tensorflow:global_step/sec: 183.918\n",
      "INFO:tensorflow:loss = 72.171, step = 1601 (0.543 sec)\n",
      "INFO:tensorflow:global_step/sec: 182.836\n",
      "INFO:tensorflow:loss = 53.7726, step = 1701 (0.546 sec)\n",
      "INFO:tensorflow:global_step/sec: 181.609\n",
      "INFO:tensorflow:loss = 138.936, step = 1801 (0.551 sec)\n",
      "INFO:tensorflow:global_step/sec: 156.442\n",
      "INFO:tensorflow:loss = 64.1608, step = 1901 (0.639 sec)\n",
      "INFO:tensorflow:global_step/sec: 155.795\n",
      "INFO:tensorflow:loss = 40.5263, step = 2001 (0.642 sec)\n",
      "INFO:tensorflow:global_step/sec: 134.908\n",
      "INFO:tensorflow:loss = 735.636, step = 2101 (0.742 sec)\n",
      "INFO:tensorflow:global_step/sec: 158.971\n",
      "INFO:tensorflow:loss = 52.3672, step = 2201 (0.630 sec)\n",
      "INFO:tensorflow:global_step/sec: 153.157\n",
      "INFO:tensorflow:loss = 171.183, step = 2301 (0.652 sec)\n",
      "INFO:tensorflow:global_step/sec: 147.015\n",
      "INFO:tensorflow:loss = 62.3948, step = 2401 (0.681 sec)\n",
      "INFO:tensorflow:global_step/sec: 145.82\n",
      "INFO:tensorflow:loss = 35.2581, step = 2501 (0.685 sec)\n",
      "INFO:tensorflow:global_step/sec: 141.635\n",
      "INFO:tensorflow:loss = 52.9519, step = 2601 (0.707 sec)\n",
      "INFO:tensorflow:global_step/sec: 127.801\n",
      "INFO:tensorflow:loss = 67.2975, step = 2701 (0.782 sec)\n",
      "INFO:tensorflow:global_step/sec: 143.959\n",
      "INFO:tensorflow:loss = 29.6356, step = 2801 (0.694 sec)\n",
      "INFO:tensorflow:global_step/sec: 165.198\n",
      "INFO:tensorflow:loss = 171.218, step = 2901 (0.605 sec)\n",
      "INFO:tensorflow:global_step/sec: 155.252\n",
      "INFO:tensorflow:loss = 51.0184, step = 3001 (0.644 sec)\n",
      "INFO:tensorflow:global_step/sec: 170.534\n",
      "INFO:tensorflow:loss = 31.3009, step = 3101 (0.591 sec)\n",
      "INFO:tensorflow:global_step/sec: 207.721\n",
      "INFO:tensorflow:loss = 179.669, step = 3201 (0.476 sec)\n",
      "INFO:tensorflow:global_step/sec: 155.35\n",
      "INFO:tensorflow:loss = 62.7603, step = 3301 (0.644 sec)\n",
      "INFO:tensorflow:global_step/sec: 218.998\n",
      "INFO:tensorflow:loss = 320.396, step = 3401 (0.456 sec)\n",
      "INFO:tensorflow:global_step/sec: 146.785\n",
      "INFO:tensorflow:loss = 236.281, step = 3501 (0.682 sec)\n",
      "INFO:tensorflow:global_step/sec: 125.805\n",
      "INFO:tensorflow:loss = 44.4305, step = 3601 (0.795 sec)\n",
      "INFO:tensorflow:global_step/sec: 140.192\n",
      "INFO:tensorflow:loss = 19.9983, step = 3701 (0.714 sec)\n",
      "INFO:tensorflow:global_step/sec: 175.114\n",
      "INFO:tensorflow:loss = 626.222, step = 3801 (0.570 sec)\n",
      "INFO:tensorflow:global_step/sec: 164.481\n",
      "INFO:tensorflow:loss = 42.1449, step = 3901 (0.608 sec)\n",
      "INFO:tensorflow:global_step/sec: 217.644\n",
      "INFO:tensorflow:loss = 23.8457, step = 4001 (0.465 sec)\n",
      "INFO:tensorflow:global_step/sec: 153.982\n",
      "INFO:tensorflow:loss = 42.1032, step = 4101 (0.644 sec)\n",
      "INFO:tensorflow:global_step/sec: 210.39\n",
      "INFO:tensorflow:loss = 43.4452, step = 4201 (0.475 sec)\n",
      "INFO:tensorflow:global_step/sec: 181.136\n",
      "INFO:tensorflow:loss = 279.101, step = 4301 (0.554 sec)\n",
      "INFO:tensorflow:global_step/sec: 135.783\n",
      "INFO:tensorflow:loss = 56.5322, step = 4401 (0.736 sec)\n",
      "INFO:tensorflow:global_step/sec: 143.176\n",
      "INFO:tensorflow:loss = 170.249, step = 4501 (0.697 sec)\n",
      "INFO:tensorflow:global_step/sec: 144.343\n",
      "INFO:tensorflow:loss = 35.096, step = 4601 (0.693 sec)\n",
      "INFO:tensorflow:global_step/sec: 154.703\n",
      "INFO:tensorflow:loss = 41.5706, step = 4701 (0.650 sec)\n",
      "INFO:tensorflow:global_step/sec: 161\n",
      "INFO:tensorflow:loss = 47.6077, step = 4801 (0.619 sec)\n",
      "INFO:tensorflow:global_step/sec: 144.813\n",
      "INFO:tensorflow:loss = 37.7201, step = 4901 (0.688 sec)\n",
      "INFO:tensorflow:global_step/sec: 141.121\n",
      "INFO:tensorflow:loss = 36.0359, step = 5001 (0.710 sec)\n",
      "INFO:tensorflow:global_step/sec: 147.865\n",
      "INFO:tensorflow:loss = 72.331, step = 5101 (0.675 sec)\n",
      "INFO:tensorflow:global_step/sec: 136.327\n",
      "INFO:tensorflow:loss = 73.9377, step = 5201 (0.734 sec)\n",
      "INFO:tensorflow:global_step/sec: 159.187\n",
      "INFO:tensorflow:loss = 63.5894, step = 5301 (0.631 sec)\n",
      "INFO:tensorflow:global_step/sec: 166.726\n",
      "INFO:tensorflow:loss = 47.397, step = 5401 (0.600 sec)\n",
      "INFO:tensorflow:global_step/sec: 138.733\n",
      "INFO:tensorflow:loss = 60.4405, step = 5501 (0.717 sec)\n",
      "INFO:tensorflow:global_step/sec: 139.377\n",
      "INFO:tensorflow:loss = 26.6084, step = 5601 (0.720 sec)\n",
      "INFO:tensorflow:global_step/sec: 151.88\n",
      "INFO:tensorflow:loss = 42.7641, step = 5701 (0.657 sec)\n",
      "INFO:tensorflow:global_step/sec: 161.309\n",
      "INFO:tensorflow:loss = 97.2703, step = 5801 (0.618 sec)\n",
      "INFO:tensorflow:global_step/sec: 161.81\n",
      "INFO:tensorflow:loss = 43.056, step = 5901 (0.618 sec)\n",
      "INFO:tensorflow:global_step/sec: 168.016\n",
      "INFO:tensorflow:loss = 28.9888, step = 6001 (0.596 sec)\n",
      "INFO:tensorflow:global_step/sec: 173.362\n",
      "INFO:tensorflow:loss = 135.012, step = 6101 (0.577 sec)\n",
      "INFO:tensorflow:global_step/sec: 178.816\n",
      "INFO:tensorflow:loss = 20.2692, step = 6201 (0.559 sec)\n",
      "INFO:tensorflow:global_step/sec: 177.571\n",
      "INFO:tensorflow:loss = 62.8961, step = 6301 (0.564 sec)\n",
      "INFO:tensorflow:global_step/sec: 276.955\n",
      "INFO:tensorflow:loss = 35.5903, step = 6401 (0.361 sec)\n",
      "INFO:tensorflow:global_step/sec: 198.631\n",
      "INFO:tensorflow:loss = 33.7861, step = 6501 (0.505 sec)\n",
      "INFO:tensorflow:global_step/sec: 175.357\n",
      "INFO:tensorflow:loss = 118.109, step = 6601 (0.569 sec)\n",
      "INFO:tensorflow:global_step/sec: 161.484\n",
      "INFO:tensorflow:loss = 48.4295, step = 6701 (0.620 sec)\n",
      "INFO:tensorflow:global_step/sec: 194.184\n",
      "INFO:tensorflow:loss = 71.9511, step = 6801 (0.515 sec)\n",
      "INFO:tensorflow:global_step/sec: 207.854\n",
      "INFO:tensorflow:loss = 47.0005, step = 6901 (0.482 sec)\n",
      "INFO:tensorflow:global_step/sec: 227.918\n",
      "INFO:tensorflow:loss = 46.6025, step = 7001 (0.437 sec)\n",
      "INFO:tensorflow:global_step/sec: 200.995\n",
      "INFO:tensorflow:loss = 83.4687, step = 7101 (0.499 sec)\n",
      "INFO:tensorflow:global_step/sec: 225.734\n",
      "INFO:tensorflow:loss = 39.3733, step = 7201 (0.443 sec)\n",
      "INFO:tensorflow:global_step/sec: 205.963\n",
      "INFO:tensorflow:loss = 23.9334, step = 7301 (0.486 sec)\n",
      "INFO:tensorflow:global_step/sec: 223.409\n",
      "INFO:tensorflow:loss = 41.0808, step = 7401 (0.450 sec)\n",
      "INFO:tensorflow:global_step/sec: 210.722\n",
      "INFO:tensorflow:loss = 58.911, step = 7501 (0.471 sec)\n",
      "INFO:tensorflow:global_step/sec: 200.303\n",
      "INFO:tensorflow:loss = 47.1898, step = 7601 (0.500 sec)\n",
      "INFO:tensorflow:global_step/sec: 165.65\n",
      "INFO:tensorflow:loss = 34.6691, step = 7701 (0.605 sec)\n",
      "INFO:tensorflow:global_step/sec: 177.246\n",
      "INFO:tensorflow:loss = 89.993, step = 7801 (0.566 sec)\n",
      "INFO:tensorflow:global_step/sec: 142.537\n",
      "INFO:tensorflow:loss = 157.436, step = 7901 (0.698 sec)\n",
      "INFO:tensorflow:global_step/sec: 197.01\n",
      "INFO:tensorflow:loss = 43.9973, step = 8001 (0.507 sec)\n",
      "INFO:tensorflow:global_step/sec: 200.526\n",
      "INFO:tensorflow:loss = 31.3641, step = 8101 (0.500 sec)\n",
      "INFO:tensorflow:global_step/sec: 188.061\n",
      "INFO:tensorflow:loss = 34.9976, step = 8201 (0.532 sec)\n",
      "INFO:tensorflow:global_step/sec: 191.076\n",
      "INFO:tensorflow:loss = 35.9741, step = 8301 (0.522 sec)\n"
     ]
    },
    {
     "name": "stdout",
     "output_type": "stream",
     "text": [
      "INFO:tensorflow:global_step/sec: 213.326\n",
      "INFO:tensorflow:loss = 36.0598, step = 8401 (0.469 sec)\n",
      "INFO:tensorflow:global_step/sec: 219.422\n",
      "INFO:tensorflow:loss = 28.3983, step = 8501 (0.458 sec)\n",
      "INFO:tensorflow:global_step/sec: 215.018\n",
      "INFO:tensorflow:loss = 52.5976, step = 8601 (0.465 sec)\n",
      "INFO:tensorflow:global_step/sec: 207.677\n",
      "INFO:tensorflow:loss = 31.2353, step = 8701 (0.480 sec)\n",
      "INFO:tensorflow:global_step/sec: 222.748\n",
      "INFO:tensorflow:loss = 35.5634, step = 8801 (0.448 sec)\n",
      "INFO:tensorflow:global_step/sec: 209.307\n",
      "INFO:tensorflow:loss = 50.0688, step = 8901 (0.479 sec)\n",
      "INFO:tensorflow:global_step/sec: 236.402\n",
      "INFO:tensorflow:loss = 28.3751, step = 9001 (0.420 sec)\n",
      "INFO:tensorflow:global_step/sec: 207.059\n",
      "INFO:tensorflow:loss = 184.025, step = 9101 (0.485 sec)\n",
      "INFO:tensorflow:global_step/sec: 201.87\n",
      "INFO:tensorflow:loss = 30.0238, step = 9201 (0.495 sec)\n",
      "INFO:tensorflow:global_step/sec: 166.664\n",
      "INFO:tensorflow:loss = 38.8385, step = 9301 (0.599 sec)\n",
      "INFO:tensorflow:global_step/sec: 199.649\n",
      "INFO:tensorflow:loss = 37.8927, step = 9401 (0.502 sec)\n",
      "INFO:tensorflow:global_step/sec: 216.023\n",
      "INFO:tensorflow:loss = 34.4025, step = 9501 (0.465 sec)\n",
      "INFO:tensorflow:global_step/sec: 166.831\n",
      "INFO:tensorflow:loss = 30.2087, step = 9601 (0.598 sec)\n",
      "INFO:tensorflow:global_step/sec: 231.768\n",
      "INFO:tensorflow:loss = 94.5377, step = 9701 (0.430 sec)\n",
      "INFO:tensorflow:global_step/sec: 197.296\n",
      "INFO:tensorflow:loss = 48.3851, step = 9801 (0.507 sec)\n",
      "INFO:tensorflow:global_step/sec: 211.34\n",
      "INFO:tensorflow:loss = 84.259, step = 9901 (0.475 sec)\n",
      "INFO:tensorflow:Saving checkpoints for 10000 into /var/folders/wc/97m43k5n4knd4vkdthrfb27r0000gn/T/tmpgia8bks9/model.ckpt.\n",
      "INFO:tensorflow:Loss for final step: 38.8005.\n"
     ]
    },
    {
     "data": {
      "text/plain": [
       "<tensorflow.python.estimator.canned.linear.LinearClassifier at 0x120996e48>"
      ]
     },
     "execution_count": 23,
     "metadata": {},
     "output_type": "execute_result"
    }
   ],
   "source": [
    "model.train(input_fn = input_func,steps = 10000)"
   ]
  },
  {
   "cell_type": "markdown",
   "metadata": {},
   "source": [
    "### Evaluation\n",
    "\n",
    "** Create a prediction input function. Remember to only supprt X_test data and keep shuffle=False. **"
   ]
  },
  {
   "cell_type": "code",
   "execution_count": 24,
   "metadata": {
    "collapsed": true
   },
   "outputs": [],
   "source": [
    "pred_fn = tf.estimator.inputs.pandas_input_fn(x= X_test,batch_size = \n",
    "                                             len(X_test),shuffle = False)"
   ]
  },
  {
   "cell_type": "markdown",
   "metadata": {},
   "source": [
    "** Use model.predict() and pass in your input function. This will produce a generator of predictions, which you can then transform into a list, with list() **"
   ]
  },
  {
   "cell_type": "code",
   "execution_count": 26,
   "metadata": {},
   "outputs": [],
   "source": [
    "pred_gen = model.predict(input_fn = pred_fn)"
   ]
  },
  {
   "cell_type": "code",
   "execution_count": 27,
   "metadata": {},
   "outputs": [
    {
     "name": "stdout",
     "output_type": "stream",
     "text": [
      "INFO:tensorflow:Restoring parameters from /var/folders/wc/97m43k5n4knd4vkdthrfb27r0000gn/T/tmpgia8bks9/model.ckpt-10000\n"
     ]
    }
   ],
   "source": [
    "predictions = list(pred_gen)"
   ]
  },
  {
   "cell_type": "markdown",
   "metadata": {},
   "source": [
    "** Each item in your list will look like this: **"
   ]
  },
  {
   "cell_type": "code",
   "execution_count": 28,
   "metadata": {},
   "outputs": [],
   "source": [
    "final_preds = [pred['class_ids'][0] for pred in predictions]"
   ]
  },
  {
   "cell_type": "markdown",
   "metadata": {},
   "source": [
    "** Create a list of only the class_ids key values from the prediction list of dictionaries, these are the predictions you will use to compare against the real y_test values. **"
   ]
  },
  {
   "cell_type": "code",
   "execution_count": 28,
   "metadata": {
    "collapsed": true
   },
   "outputs": [],
   "source": []
  },
  {
   "cell_type": "code",
   "execution_count": 30,
   "metadata": {},
   "outputs": [
    {
     "data": {
      "text/plain": [
       "[0, 0, 0, 0, 1, 0, 0, 0, 0, 0]"
      ]
     },
     "execution_count": 30,
     "metadata": {},
     "output_type": "execute_result"
    }
   ],
   "source": []
  },
  {
   "cell_type": "markdown",
   "metadata": {},
   "source": [
    "** Import classification_report from sklearn.metrics and then see if you can figure out how to use it to easily get a full report of your model's performance on the test data. **"
   ]
  },
  {
   "cell_type": "code",
   "execution_count": 29,
   "metadata": {
    "collapsed": true
   },
   "outputs": [],
   "source": [
    "from sklearn.metrics import classification_report"
   ]
  },
  {
   "cell_type": "code",
   "execution_count": 31,
   "metadata": {},
   "outputs": [
    {
     "name": "stdout",
     "output_type": "stream",
     "text": [
      "             precision    recall  f1-score   support\n",
      "\n",
      "          0       0.88      0.91      0.90      7436\n",
      "          1       0.69      0.61      0.64      2333\n",
      "\n",
      "avg / total       0.84      0.84      0.84      9769\n",
      "\n"
     ]
    }
   ],
   "source": [
    "print(classification_report(y_test,final_preds))"
   ]
  },
  {
   "cell_type": "markdown",
   "metadata": {
    "collapsed": true
   },
   "source": [
    "# Great Job!"
   ]
  }
 ],
 "metadata": {
  "kernelspec": {
   "display_name": "Python 3",
   "language": "python",
   "name": "python3"
  },
  "language_info": {
   "codemirror_mode": {
    "name": "ipython",
    "version": 3
   },
   "file_extension": ".py",
   "mimetype": "text/x-python",
   "name": "python",
   "nbconvert_exporter": "python",
   "pygments_lexer": "ipython3",
   "version": "3.6.2"
  }
 },
 "nbformat": 4,
 "nbformat_minor": 2
}
